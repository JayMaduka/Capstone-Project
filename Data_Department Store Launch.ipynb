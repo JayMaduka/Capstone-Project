{
    "cells": [
        {
            "cell_type": "markdown",
            "metadata": {
                "collapsed": true
            },
            "source": "# Required Data\n\n#### This section describes the types and structures of the data required to successfully solve the business problem of identifying a viable location to open a Department Store in Toronto"
        },
        {
            "cell_type": "markdown",
            "metadata": {},
            "source": "To start with, a dataframe with all the borroughs and neighborhoods in Toronto would be required.\n\nThis would be followed by a dataframe or API to return the cordinates for each the stated places (i.e) latitiude and longitude\n\nNext would be the population data per borough and/or neighborhood and possibly the general demographics of the residents. Demographics will generally influence the buying behavior of residents and should be considered\n\nData on the venues within each neighborhood would be required also. Foursquare API will be the data source for the venues. We can generate count of venues. For instance, number or homes in the neighborhood, number exisiting department stores, or parks or coffee shops, schools or bus or train stations etc.\n\nIt will be good to test if any relationship exist between these venues and exisiting retail shops. Factors with a strong relationship may be considered enabling factors in launching a department store in a location\n\nData on Crime rate in the neighborhoods may be beneficial as this might affect the choice of a location. We can equally test the relationship of high crime rates against presence of other venues to see if there is any pattern.\n\nAlso if available"
        },
        {
            "cell_type": "code",
            "execution_count": null,
            "metadata": {},
            "outputs": [],
            "source": ""
        }
    ],
    "metadata": {
        "kernelspec": {
            "display_name": "Python 3.6",
            "language": "python",
            "name": "python3"
        },
        "language_info": {
            "codemirror_mode": {
                "name": "ipython",
                "version": 3
            },
            "file_extension": ".py",
            "mimetype": "text/x-python",
            "name": "python",
            "nbconvert_exporter": "python",
            "pygments_lexer": "ipython3",
            "version": "3.6.9"
        }
    },
    "nbformat": 4,
    "nbformat_minor": 1
}