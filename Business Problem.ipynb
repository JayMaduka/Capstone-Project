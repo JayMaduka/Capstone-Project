{
    "cells": [
        {
            "cell_type": "markdown",
            "metadata": {
                "collapsed": true
            },
            "source": "# Business Problem\n\n### Identifying Viable Location(s) to Open a Department Store in Toronto "
        },
        {
            "cell_type": "markdown",
            "metadata": {},
            "source": "This exercise will interest investors who are willing to open a Department store in a location.\nOr it may also interest retail chainswho already have stores in different locations and are willing to expand to to other viable locations. \n\nThe idea behind this problem is that location most affects this type of businesses (Retail), and scientifically arriving at a viable location for such business could make the difference between success or failure.\n\nTo understand the business problem, there are a few factors to consider in citing a Department store:\n<ol>\n    <li>Population of persons in the neighborhood</li>\n    <li>Competition (other department stores)</li>\n    <li>Surrounding businesses/venues or \"Neighbors\"</li>\n    <li>Accessibility or Traffic</li>\n    <li>Location cost</li>\n    <li>Personal factors (consumer behaviour)</li>\n</ol>\nThese factors will affect not just the anaytic approach, but the type of data collected."
        },
        {
            "cell_type": "code",
            "execution_count": null,
            "metadata": {},
            "outputs": [],
            "source": ""
        }
    ],
    "metadata": {
        "kernelspec": {
            "display_name": "Python 3.6",
            "language": "python",
            "name": "python3"
        },
        "language_info": {
            "codemirror_mode": {
                "name": "ipython",
                "version": 3
            },
            "file_extension": ".py",
            "mimetype": "text/x-python",
            "name": "python",
            "nbconvert_exporter": "python",
            "pygments_lexer": "ipython3",
            "version": "3.6.9"
        }
    },
    "nbformat": 4,
    "nbformat_minor": 1
}